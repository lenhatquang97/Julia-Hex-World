{
 "cells": [
  {
   "cell_type": "markdown",
   "metadata": {},
   "source": [
    "# Packages\n",
    "\n",
    "Julia has over 2000 registered packages, making packages a huge part of the Julia ecosystem.\n",
    "\n",
    "Even so, the package ecosystem still has some growing to do. Notably, we have first class function calls  to other languages, providing excellent foreign function interfaces. We can easily call into python or R, for example, with `PyCall` or `Rcall`.\n",
    "\n",
    "This means that you don't have to wait until the Julia ecosystem is fully mature, and that moving to Julia doesn't mean you have to give up your favorite package/library from another language! \n",
    "\n",
    "To see all available packages, check out\n",
    "\n",
    "https://julialang.org/packages/\n",
    "\n",
    "For now, let's learn how to use a package."
   ]
  },
  {
   "cell_type": "markdown",
   "metadata": {},
   "source": [
    "The first time you use a package on a given Julia installation, you need to use the package manager to explicitly add it:"
   ]
  },
  {
   "cell_type": "code",
   "execution_count": 1,
   "metadata": {},
   "outputs": [
    {
     "name": "stderr",
     "output_type": "stream",
     "text": [
      "\u001b[32m\u001b[1m  Installing\u001b[22m\u001b[39m known registries into `~/.julia`\n",
      "\u001b[32m\u001b[1m    Updating\u001b[22m\u001b[39m registry at `~/.julia/registries/General.toml`\n",
      "\u001b[32m\u001b[1m   Resolving\u001b[22m\u001b[39m package versions...\n",
      "\u001b[32m\u001b[1m   Installed\u001b[22m\u001b[39m Example ─ v0.5.3\n",
      "\u001b[32m\u001b[1m    Updating\u001b[22m\u001b[39m `~/.julia/environments/v1.7/Project.toml`\n",
      " \u001b[90m [7876af07] \u001b[39m\u001b[92m+ Example v0.5.3\u001b[39m\n",
      "\u001b[32m\u001b[1m    Updating\u001b[22m\u001b[39m `~/.julia/environments/v1.7/Manifest.toml`\n",
      " \u001b[90m [7876af07] \u001b[39m\u001b[92m+ Example v0.5.3\u001b[39m\n",
      "\u001b[32m\u001b[1mPrecompiling\u001b[22m\u001b[39m project...\n",
      "\u001b[32m  ✓ \u001b[39mExample\n",
      "  1 dependency successfully precompiled in 1 seconds\n"
     ]
    }
   ],
   "source": [
    "using Pkg\n",
    "Pkg.add(\"Example\")"
   ]
  },
  {
   "cell_type": "markdown",
   "metadata": {},
   "source": [
    "Every time you use Julia (start a new session at the REPL, or open a notebook for the first time, for example), you load the package with the `using` keyword"
   ]
  },
  {
   "cell_type": "code",
   "execution_count": 2,
   "metadata": {},
   "outputs": [],
   "source": [
    "using Example"
   ]
  },
  {
   "cell_type": "markdown",
   "metadata": {},
   "source": [
    "In the source code of `Example.jl` at\n",
    "https://github.com/JuliaLang/Example.jl/blob/master/src/Example.jl\n",
    "we see the following function declared\n",
    "\n",
    "```\n",
    "hello(who::String) = \"Hello, $who\"\n",
    "```\n",
    "\n",
    "Having loaded `Example`, we should now be able to call `hello`"
   ]
  },
  {
   "cell_type": "code",
   "execution_count": 3,
   "metadata": {},
   "outputs": [
    {
     "data": {
      "text/plain": [
       "\"Hello, it's me. I was wondering if after all these years you'd like to meet.\""
      ]
     },
     "metadata": {},
     "output_type": "display_data"
    }
   ],
   "source": [
    "hello(\"it's me. I was wondering if after all these years you'd like to meet.\")"
   ]
  },
  {
   "cell_type": "markdown",
   "metadata": {},
   "source": [
    "Now let's play with the Colors package"
   ]
  },
  {
   "cell_type": "code",
   "execution_count": 4,
   "metadata": {},
   "outputs": [
    {
     "name": "stderr",
     "output_type": "stream",
     "text": [
      "\u001b[32m\u001b[1m   Resolving\u001b[22m\u001b[39m package versions...\n",
      "\u001b[32m\u001b[1m   Installed\u001b[22m\u001b[39m Reexport ────────── v1.2.2\n",
      "\u001b[32m\u001b[1m   Installed\u001b[22m\u001b[39m ColorTypes ──────── v0.11.0\n",
      "\u001b[32m\u001b[1m   Installed\u001b[22m\u001b[39m FixedPointNumbers ─ v0.8.4\n",
      "\u001b[32m\u001b[1m   Installed\u001b[22m\u001b[39m Colors ──────────── v0.12.8\n",
      "\u001b[32m\u001b[1m    Updating\u001b[22m\u001b[39m `~/.julia/environments/v1.7/Project.toml`\n",
      " \u001b[90m [5ae59095] \u001b[39m\u001b[92m+ Colors v0.12.8\u001b[39m\n",
      "\u001b[32m\u001b[1m    Updating\u001b[22m\u001b[39m `~/.julia/environments/v1.7/Manifest.toml`\n",
      " \u001b[90m [3da002f7] \u001b[39m\u001b[92m+ ColorTypes v0.11.0\u001b[39m\n",
      " \u001b[90m [5ae59095] \u001b[39m\u001b[92m+ Colors v0.12.8\u001b[39m\n",
      " \u001b[90m [53c48c17] \u001b[39m\u001b[92m+ FixedPointNumbers v0.8.4\u001b[39m\n",
      " \u001b[90m [189a3867] \u001b[39m\u001b[92m+ Reexport v1.2.2\u001b[39m\n",
      " \u001b[90m [56f22d72] \u001b[39m\u001b[92m+ Artifacts\u001b[39m\n",
      " \u001b[90m [8f399da3] \u001b[39m\u001b[92m+ Libdl\u001b[39m\n",
      " \u001b[90m [37e2e46d] \u001b[39m\u001b[92m+ LinearAlgebra\u001b[39m\n",
      " \u001b[90m [9a3f8284] \u001b[39m\u001b[92m+ Random\u001b[39m\n",
      " \u001b[90m [ea8e919c] \u001b[39m\u001b[92m+ SHA\u001b[39m\n",
      " \u001b[90m [9e88b42a] \u001b[39m\u001b[92m+ Serialization\u001b[39m\n",
      " \u001b[90m [2f01184e] \u001b[39m\u001b[92m+ SparseArrays\u001b[39m\n",
      " \u001b[90m [10745b16] \u001b[39m\u001b[92m+ Statistics\u001b[39m\n",
      " \u001b[90m [e66e0078] \u001b[39m\u001b[92m+ CompilerSupportLibraries_jll\u001b[39m\n",
      " \u001b[90m [4536629a] \u001b[39m\u001b[92m+ OpenBLAS_jll\u001b[39m\n",
      " \u001b[90m [8e850b90] \u001b[39m\u001b[92m+ libblastrampoline_jll\u001b[39m\n",
      "\u001b[32m\u001b[1mPrecompiling\u001b[22m\u001b[39m project...\n",
      "\u001b[32m  ✓ \u001b[39m\u001b[90mReexport\u001b[39m\n",
      "\u001b[32m  ✓ \u001b[39m\u001b[90mCompilerSupportLibraries_jll\u001b[39m\n",
      "\u001b[32m  ✓ \u001b[39m\u001b[90mOpenBLAS_jll\u001b[39m\n",
      "\u001b[32m  ✓ \u001b[39m\u001b[90mlibblastrampoline_jll\u001b[39m\n",
      "\u001b[32m  ✓ \u001b[39m\u001b[90mFixedPointNumbers\u001b[39m\n",
      "\u001b[32m  ✓ \u001b[39m\u001b[90mColorTypes\u001b[39m\n",
      "\u001b[32m  ✓ \u001b[39mColors\n",
      "  7 dependencies successfully precompiled in 16 seconds (1 already precompiled)\n"
     ]
    }
   ],
   "source": [
    "Pkg.add(\"Colors\")"
   ]
  },
  {
   "cell_type": "code",
   "execution_count": 5,
   "metadata": {},
   "outputs": [],
   "source": [
    "using Colors"
   ]
  },
  {
   "cell_type": "markdown",
   "metadata": {},
   "source": [
    "Let's create a palette of 100 different colors"
   ]
  },
  {
   "cell_type": "code",
   "execution_count": 7,
   "metadata": {},
   "outputs": [
    {
     "data": {
      "image/svg+xml": "<?xml version=\"1.0\" encoding=\"UTF-8\"?>\n<!DOCTYPE svg PUBLIC \"-//W3C//DTD SVG 1.1//EN\"\n \"http://www.w3.org/Graphics/SVG/1.1/DTD/svg11.dtd\">\n<svg xmlns=\"http://www.w3.org/2000/svg\" version=\"1.1\"\n     width=\"180mm\" height=\"25mm\"\n     viewBox=\"0 0 200 1\" preserveAspectRatio=\"none\"\n     shape-rendering=\"crispEdges\" stroke=\"none\">\n<rect width=\"1\" height=\".96\" x=\"0\" y=\"0\" fill=\"#000000\" />\n<rect width=\"1\" height=\".96\" x=\"1\" y=\"0\" fill=\"#FFFF74\" />\n<rect width=\"1\" height=\".96\" x=\"2\" y=\"0\" fill=\"#FF9BFF\" />\n<rect width=\"1\" height=\".96\" x=\"3\" y=\"0\" fill=\"#00D3FF\" />\n<rect width=\"1\" height=\".96\" x=\"4\" y=\"0\" fill=\"#E2630D\" />\n<rect width=\"1\" height=\".96\" x=\"5\" y=\"0\" fill=\"#007E00\" />\n<rect width=\"1\" height=\".96\" x=\"6\" y=\"0\" fill=\"#0050E6\" />\n<rect width=\"1\" height=\".96\" x=\"7\" y=\"0\" fill=\"#AC0047\" />\n<rect width=\"1\" height=\".96\" x=\"8\" y=\"0\" fill=\"#00FFC8\" />\n<rect width=\"1\" height=\".96\" x=\"9\" y=\"0\" fill=\"#006468\" />\n<rect width=\"1\" height=\".96\" x=\"10\" y=\"0\" fill=\"#FFD5C4\" />\n<rect width=\"1\" height=\".96\" x=\"11\" y=\"0\" fill=\"#6C5200\" />\n<rect width=\"1\" height=\".96\" x=\"12\" y=\"0\" fill=\"#7A7581\" />\n<rect width=\"1\" height=\".96\" x=\"13\" y=\"0\" fill=\"#44005C\" />\n<rect width=\"1\" height=\".96\" x=\"14\" y=\"0\" fill=\"#9E9E77\" />\n<rect width=\"1\" height=\".96\" x=\"15\" y=\"0\" fill=\"#FF5C78\" />\n<rect width=\"1\" height=\".96\" x=\"16\" y=\"0\" fill=\"#8197F1\" />\n<rect width=\"1\" height=\".96\" x=\"17\" y=\"0\" fill=\"#003200\" />\n<rect width=\"1\" height=\".96\" x=\"18\" y=\"0\" fill=\"#C721DD\" />\n<rect width=\"1\" height=\".96\" x=\"19\" y=\"0\" fill=\"#FFAD07\" />\n<rect width=\"1\" height=\".96\" x=\"20\" y=\"0\" fill=\"#611C00\" />\n<rect width=\"1\" height=\".96\" x=\"21\" y=\"0\" fill=\"#F3FFFA\" />\n<rect width=\"1\" height=\".96\" x=\"22\" y=\"0\" fill=\"#009E88\" />\n<rect width=\"1\" height=\".96\" x=\"23\" y=\"0\" fill=\"#5EC700\" />\n<rect width=\"1\" height=\".96\" x=\"24\" y=\"0\" fill=\"#002D54\" />\n<rect width=\"1\" height=\".96\" x=\"25\" y=\"0\" fill=\"#553C4A\" />\n<rect width=\"1\" height=\".96\" x=\"26\" y=\"0\" fill=\"#444439\" />\n<rect width=\"1\" height=\".96\" x=\"27\" y=\"0\" fill=\"#008FB6\" />\n<rect width=\"1\" height=\".96\" x=\"28\" y=\"0\" fill=\"#CFD4FD\" />\n<rect width=\"1\" height=\".96\" x=\"29\" y=\"0\" fill=\"#C40000\" />\n<rect width=\"1\" height=\".96\" x=\"30\" y=\"0\" fill=\"#A4675C\" />\n<rect width=\"1\" height=\".96\" x=\"31\" y=\"0\" fill=\"#BB8FA8\" />\n<rect width=\"1\" height=\".96\" x=\"32\" y=\"0\" fill=\"#290001\" />\n<rect width=\"1\" height=\".96\" x=\"33\" y=\"0\" fill=\"#A78600\" />\n<rect width=\"1\" height=\".96\" x=\"34\" y=\"0\" fill=\"#002D30\" />\n<rect width=\"1\" height=\".96\" x=\"35\" y=\"0\" fill=\"#C7DEAA\" />\n<rect width=\"1\" height=\".96\" x=\"36\" y=\"0\" fill=\"#8D9FA3\" />\n<rect width=\"1\" height=\".96\" x=\"37\" y=\"0\" fill=\"#6F5B95\" />\n<rect width=\"1\" height=\".96\" x=\"38\" y=\"0\" fill=\"#A1FFFF\" />\n<rect width=\"1\" height=\".96\" x=\"39\" y=\"0\" fill=\"#B39688\" />\n<rect width=\"1\" height=\".96\" x=\"40\" y=\"0\" fill=\"#4E6D50\" />\n<rect width=\"1\" height=\".96\" x=\"41\" y=\"0\" fill=\"#FF977B\" />\n<rect width=\"1\" height=\".96\" x=\"42\" y=\"0\" fill=\"#FFD1EC\" />\n<rect width=\"1\" height=\".96\" x=\"43\" y=\"0\" fill=\"#9E5100\" />\n<rect width=\"1\" height=\".96\" x=\"44\" y=\"0\" fill=\"#AE5B8E\" />\n<rect width=\"1\" height=\".96\" x=\"45\" y=\"0\" fill=\"#799400\" />\n<rect width=\"1\" height=\".96\" x=\"46\" y=\"0\" fill=\"#362200\" />\n<rect width=\"1\" height=\".96\" x=\"47\" y=\"0\" fill=\"#0E0026\" />\n<rect width=\"1\" height=\".96\" x=\"48\" y=\"0\" fill=\"#80765F\" />\n<rect width=\"1\" height=\".96\" x=\"49\" y=\"0\" fill=\"#485C00\" />\n<rect width=\"1\" height=\".96\" x=\"50\" y=\"0\" fill=\"#C8C2B5\" />\n<rect width=\"1\" height=\".96\" x=\"51\" y=\"0\" fill=\"#8800A1\" />\n<rect width=\"1\" height=\".96\" x=\"52\" y=\"0\" fill=\"#00A853\" />\n<rect width=\"1\" height=\".96\" x=\"53\" y=\"0\" fill=\"#FFE1AA\" />\n<rect width=\"1\" height=\".96\" x=\"54\" y=\"0\" fill=\"#674F42\" />\n<rect width=\"1\" height=\".96\" x=\"55\" y=\"0\" fill=\"#FF342D\" />\n<rect width=\"1\" height=\".96\" x=\"56\" y=\"0\" fill=\"#6B0041\" />\n<rect width=\"1\" height=\".96\" x=\"57\" y=\"0\" fill=\"#0806B1\" />\n<rect width=\"1\" height=\".96\" x=\"58\" y=\"0\" fill=\"#986DFF\" />\n<rect width=\"1\" height=\".96\" x=\"59\" y=\"0\" fill=\"#FF4EC7\" />\n<rect width=\"1\" height=\".96\" x=\"60\" y=\"0\" fill=\"#8AB9A2\" />\n<rect width=\"1\" height=\".96\" x=\"61\" y=\"0\" fill=\"#2EFF71\" />\n<rect width=\"1\" height=\".96\" x=\"62\" y=\"0\" fill=\"#005577\" />\n<rect width=\"1\" height=\".96\" x=\"63\" y=\"0\" fill=\"#0078E3\" />\n<rect width=\"1\" height=\".96\" x=\"64\" y=\"0\" fill=\"#B2ADB9\" />\n<rect width=\"1\" height=\".96\" x=\"65\" y=\"0\" fill=\"#00C3C6\" />\n<rect width=\"1\" height=\".96\" x=\"66\" y=\"0\" fill=\"#00AEFF\" />\n<rect width=\"1\" height=\".96\" x=\"67\" y=\"0\" fill=\"#4E545F\" />\n<rect width=\"1\" height=\".96\" x=\"68\" y=\"0\" fill=\"#FF9BB0\" />\n<rect width=\"1\" height=\".96\" x=\"69\" y=\"0\" fill=\"#FED206\" />\n<rect width=\"1\" height=\".96\" x=\"70\" y=\"0\" fill=\"#687B7A\" />\n<rect width=\"1\" height=\".96\" x=\"71\" y=\"0\" fill=\"#B1DCFC\" />\n<rect width=\"1\" height=\".96\" x=\"72\" y=\"0\" fill=\"#FFF6FF\" />\n<rect width=\"1\" height=\".96\" x=\"73\" y=\"0\" fill=\"#620019\" />\n<rect width=\"1\" height=\".96\" x=\"74\" y=\"0\" fill=\"#C79253\" />\n<rect width=\"1\" height=\".96\" x=\"75\" y=\"0\" fill=\"#A891CF\" />\n<rect width=\"1\" height=\".96\" x=\"76\" y=\"0\" fill=\"#EF007A\" />\n<rect width=\"1\" height=\".96\" x=\"77\" y=\"0\" fill=\"#B8CE00\" />\n<rect width=\"1\" height=\".96\" x=\"78\" y=\"0\" fill=\"#001700\" />\n<rect width=\"1\" height=\".96\" x=\"79\" y=\"0\" fill=\"#204B39\" />\n<rect width=\"1\" height=\".96\" x=\"80\" y=\"0\" fill=\"#875866\" />\n<rect width=\"1\" height=\".96\" x=\"81\" y=\"0\" fill=\"#B5FF4E\" />\n<rect width=\"1\" height=\".96\" x=\"82\" y=\"0\" fill=\"#B40080\" />\n<rect width=\"1\" height=\".96\" x=\"83\" y=\"0\" fill=\"#853F34\" />\n<rect width=\"1\" height=\".96\" x=\"84\" y=\"0\" fill=\"#69936B\" />\n<rect width=\"1\" height=\".96\" x=\"85\" y=\"0\" fill=\"#FFBC80\" />\n<rect width=\"1\" height=\".96\" x=\"86\" y=\"0\" fill=\"#4C3779\" />\n<rect width=\"1\" height=\".96\" x=\"87\" y=\"0\" fill=\"#323606\" />\n<rect width=\"1\" height=\".96\" x=\"88\" y=\"0\" fill=\"#008E94\" />\n<rect width=\"1\" height=\".96\" x=\"89\" y=\"0\" fill=\"#CAAC51\" />\n<rect width=\"1\" height=\".96\" x=\"90\" y=\"0\" fill=\"#787B3B\" />\n<rect width=\"1\" height=\".96\" x=\"91\" y=\"0\" fill=\"#B6F9D9\" />\n<rect width=\"1\" height=\".96\" x=\"92\" y=\"0\" fill=\"#DA003F\" />\n<rect width=\"1\" height=\".96\" x=\"93\" y=\"0\" fill=\"#2E2124\" />\n<rect width=\"1\" height=\".96\" x=\"94\" y=\"0\" fill=\"#005815\" />\n<rect width=\"1\" height=\".96\" x=\"95\" y=\"0\" fill=\"#FF8E1D\" />\n<rect width=\"1\" height=\".96\" x=\"96\" y=\"0\" fill=\"#6674B1\" />\n<rect width=\"1\" height=\".96\" x=\"97\" y=\"0\" fill=\"#00CDAD\" />\n<rect width=\"1\" height=\".96\" x=\"98\" y=\"0\" fill=\"#007F63\" />\n<rect width=\"1\" height=\".96\" x=\"99\" y=\"0\" fill=\"#996F3D\" />\n<rect width=\"1\" height=\".96\" x=\"100\" y=\"0\" fill=\"#97BA6E\" />\n<rect width=\"1\" height=\".96\" x=\"101\" y=\"0\" fill=\"#663900\" />\n<rect width=\"1\" height=\".96\" x=\"102\" y=\"0\" fill=\"#BC6AC4\" />\n<rect width=\"1\" height=\".96\" x=\"103\" y=\"0\" fill=\"#00D177\" />\n<rect width=\"1\" height=\".96\" x=\"104\" y=\"0\" fill=\"#2A353D\" />\n<rect width=\"1\" height=\".96\" x=\"105\" y=\"0\" fill=\"#B2C6C6\" />\n<rect width=\"1\" height=\".96\" x=\"106\" y=\"0\" fill=\"#FFFFD7\" />\n<rect width=\"1\" height=\".96\" x=\"107\" y=\"0\" fill=\"#000B53\" />\n<rect width=\"1\" height=\".96\" x=\"108\" y=\"0\" fill=\"#370025\" />\n<rect width=\"1\" height=\".96\" x=\"109\" y=\"0\" fill=\"#D3B3FF\" />\n<rect width=\"1\" height=\".96\" x=\"110\" y=\"0\" fill=\"#7B8AA2\" />\n<rect width=\"1\" height=\".96\" x=\"111\" y=\"0\" fill=\"#5A3ABC\" />\n<rect width=\"1\" height=\".96\" x=\"112\" y=\"0\" fill=\"#41518A\" />\n<rect width=\"1\" height=\".96\" x=\"113\" y=\"0\" fill=\"#1E1A00\" />\n<rect width=\"1\" height=\".96\" x=\"114\" y=\"0\" fill=\"#BA7A58\" />\n<rect width=\"1\" height=\".96\" x=\"115\" y=\"0\" fill=\"#8B6D8D\" />\n<rect width=\"1\" height=\".96\" x=\"116\" y=\"0\" fill=\"#7FB7CE\" />\n<rect width=\"1\" height=\".96\" x=\"117\" y=\"0\" fill=\"#00739E\" />\n<rect width=\"1\" height=\".96\" x=\"118\" y=\"0\" fill=\"#555633\" />\n<rect width=\"1\" height=\".96\" x=\"119\" y=\"0\" fill=\"#773E7D\" />\n<rect width=\"1\" height=\".96\" x=\"120\" y=\"0\" fill=\"#A38182\" />\n<rect width=\"1\" height=\".96\" x=\"121\" y=\"0\" fill=\"#A40024\" />\n<rect width=\"1\" height=\".96\" x=\"122\" y=\"0\" fill=\"#96E99D\" />\n<rect width=\"1\" height=\".96\" x=\"123\" y=\"0\" fill=\"#C57177\" />\n<rect width=\"1\" height=\".96\" x=\"124\" y=\"0\" fill=\"#392E4D\" />\n<rect width=\"1\" height=\".96\" x=\"125\" y=\"0\" fill=\"#62675C\" />\n<rect width=\"1\" height=\".96\" x=\"126\" y=\"0\" fill=\"#868B7F\" />\n<rect width=\"1\" height=\".96\" x=\"127\" y=\"0\" fill=\"#CA7500\" />\n<rect width=\"1\" height=\".96\" x=\"128\" y=\"0\" fill=\"#001827\" />\n<rect width=\"1\" height=\".96\" x=\"129\" y=\"0\" fill=\"#8C7164\" />\n<rect width=\"1\" height=\".96\" x=\"130\" y=\"0\" fill=\"#67A7A7\" />\n<rect width=\"1\" height=\".96\" x=\"131\" y=\"0\" fill=\"#DF00A6\" />\n<rect width=\"1\" height=\".96\" x=\"132\" y=\"0\" fill=\"#DFBABB\" />\n<rect width=\"1\" height=\".96\" x=\"133\" y=\"0\" fill=\"#ED5EFF\" />\n<rect width=\"1\" height=\".96\" x=\"134\" y=\"0\" fill=\"#502922\" />\n<rect width=\"1\" height=\".96\" x=\"135\" y=\"0\" fill=\"#A3BDFF\" />\n<rect width=\"1\" height=\".96\" x=\"136\" y=\"0\" fill=\"#271100\" />\n<rect width=\"1\" height=\".96\" x=\"137\" y=\"0\" fill=\"#C8F2FA\" />\n<rect width=\"1\" height=\".96\" x=\"138\" y=\"0\" fill=\"#CD8C7F\" />\n<rect width=\"1\" height=\".96\" x=\"139\" y=\"0\" fill=\"#D0D7E4\" />\n<rect width=\"1\" height=\".96\" x=\"140\" y=\"0\" fill=\"#9A8857\" />\n<rect width=\"1\" height=\".96\" x=\"141\" y=\"0\" fill=\"#F5E9DE\" />\n<rect width=\"1\" height=\".96\" x=\"142\" y=\"0\" fill=\"#8A5A40\" />\n<rect width=\"1\" height=\".96\" x=\"143\" y=\"0\" fill=\"#D56A58\" />\n<rect width=\"1\" height=\".96\" x=\"144\" y=\"0\" fill=\"#EC93C8\" />\n<rect width=\"1\" height=\".96\" x=\"145\" y=\"0\" fill=\"#3A9E00\" />\n<rect width=\"1\" height=\".96\" x=\"146\" y=\"0\" fill=\"#00379E\" />\n<rect width=\"1\" height=\".96\" x=\"147\" y=\"0\" fill=\"#3A95FF\" />\n<rect width=\"1\" height=\".96\" x=\"148\" y=\"0\" fill=\"#943500\" />\n<rect width=\"1\" height=\".96\" x=\"149\" y=\"0\" fill=\"#486A78\" />\n<rect width=\"1\" height=\".96\" x=\"150\" y=\"0\" fill=\"#DCFFA2\" />\n<rect width=\"1\" height=\".96\" x=\"151\" y=\"0\" fill=\"#C4C875\" />\n<rect width=\"1\" height=\".96\" x=\"152\" y=\"0\" fill=\"#A8ADD4\" />\n<rect width=\"1\" height=\".96\" x=\"153\" y=\"0\" fill=\"#8DCECE\" />\n<rect width=\"1\" height=\".96\" x=\"154\" y=\"0\" fill=\"#00ECFF\" />\n<rect width=\"1\" height=\".96\" x=\"155\" y=\"0\" fill=\"#726162\" />\n<rect width=\"1\" height=\".96\" x=\"156\" y=\"0\" fill=\"#DDBD9D\" />\n<rect width=\"1\" height=\".96\" x=\"157\" y=\"0\" fill=\"#00AEC8\" />\n<rect width=\"1\" height=\".96\" x=\"158\" y=\"0\" fill=\"#595066\" />\n<rect width=\"1\" height=\".96\" x=\"159\" y=\"0\" fill=\"#DB3E00\" />\n<rect width=\"1\" height=\".96\" x=\"160\" y=\"0\" fill=\"#EC759E\" />\n<rect width=\"1\" height=\".96\" x=\"161\" y=\"0\" fill=\"#C18CFF\" />\n<rect width=\"1\" height=\".96\" x=\"162\" y=\"0\" fill=\"#465757\" />\n<rect width=\"1\" height=\".96\" x=\"163\" y=\"0\" fill=\"#0061AC\" />\n<rect width=\"1\" height=\".96\" x=\"164\" y=\"0\" fill=\"#008D53\" />\n<rect width=\"1\" height=\".96\" x=\"165\" y=\"0\" fill=\"#BEDECD\" />\n<rect width=\"1\" height=\".96\" x=\"166\" y=\"0\" fill=\"#004B56\" />\n<rect width=\"1\" height=\".96\" x=\"167\" y=\"0\" fill=\"#8466C6\" />\n<rect width=\"1\" height=\".96\" x=\"168\" y=\"0\" fill=\"#A64651\" />\n<rect width=\"1\" height=\".96\" x=\"169\" y=\"0\" fill=\"#DAA386\" />\n<rect width=\"1\" height=\".96\" x=\"170\" y=\"0\" fill=\"#006453\" />\n<rect width=\"1\" height=\".96\" x=\"171\" y=\"0\" fill=\"#504215\" />\n<rect width=\"1\" height=\".96\" x=\"172\" y=\"0\" fill=\"#6B3044\" />\n<rect width=\"1\" height=\".96\" x=\"173\" y=\"0\" fill=\"#120013\" />\n<rect width=\"1\" height=\".96\" x=\"174\" y=\"0\" fill=\"#D1BCD2\" />\n<rect width=\"1\" height=\".96\" x=\"175\" y=\"0\" fill=\"#2F733A\" />\n<rect width=\"1\" height=\".96\" x=\"176\" y=\"0\" fill=\"#993FA5\" />\n<rect width=\"1\" height=\".96\" x=\"177\" y=\"0\" fill=\"#92877D\" />\n<rect width=\"1\" height=\".96\" x=\"178\" y=\"0\" fill=\"#8B752A\" />\n<rect width=\"1\" height=\".96\" x=\"179\" y=\"0\" fill=\"#8A0000\" />\n<rect width=\"1\" height=\".96\" x=\"180\" y=\"0\" fill=\"#1F2337\" />\n<rect width=\"1\" height=\".96\" x=\"181\" y=\"0\" fill=\"#9183A7\" />\n<rect width=\"1\" height=\".96\" x=\"182\" y=\"0\" fill=\"#BBC6AD\" />\n<rect width=\"1\" height=\".96\" x=\"183\" y=\"0\" fill=\"#FFC0FF\" />\n<rect width=\"1\" height=\".96\" x=\"184\" y=\"0\" fill=\"#9DA151\" />\n<rect width=\"1\" height=\".96\" x=\"185\" y=\"0\" fill=\"#707B63\" />\n<rect width=\"1\" height=\".96\" x=\"186\" y=\"0\" fill=\"#746435\" />\n<rect width=\"1\" height=\".96\" x=\"187\" y=\"0\" fill=\"#BEAE88\" />\n<rect width=\"1\" height=\".96\" x=\"188\" y=\"0\" fill=\"#2D3622\" />\n<rect width=\"1\" height=\".96\" x=\"189\" y=\"0\" fill=\"#8CA18D\" />\n<rect width=\"1\" height=\".96\" x=\"190\" y=\"0\" fill=\"#59832D\" />\n<rect width=\"1\" height=\".96\" x=\"191\" y=\"0\" fill=\"#496C65\" />\n<rect width=\"1\" height=\".96\" x=\"192\" y=\"0\" fill=\"#6C9089\" />\n<rect width=\"1\" height=\".96\" x=\"193\" y=\"0\" fill=\"#2B231B\" />\n<rect width=\"1\" height=\".96\" x=\"194\" y=\"0\" fill=\"#62ECD5\" />\n<rect width=\"1\" height=\".96\" x=\"195\" y=\"0\" fill=\"#003023\" />\n<rect width=\"1\" height=\".96\" x=\"196\" y=\"0\" fill=\"#BA5D27\" />\n<rect width=\"1\" height=\".96\" x=\"197\" y=\"0\" fill=\"#F6B2A4\" />\n<rect width=\"1\" height=\".96\" x=\"198\" y=\"0\" fill=\"#FF005A\" />\n<rect width=\"1\" height=\".96\" x=\"199\" y=\"0\" fill=\"#3B4263\" />\n</svg>",
      "text/plain": [
       "200-element Array{RGB{N0f8},1} with eltype RGB{FixedPointNumbers.N0f8}:\n",
       " RGB{N0f8}(0.0,0.0,0.0)\n",
       " RGB{N0f8}(1.0,1.0,0.455)\n",
       " RGB{N0f8}(1.0,0.608,1.0)\n",
       " RGB{N0f8}(0.0,0.827,1.0)\n",
       " RGB{N0f8}(0.886,0.388,0.051)\n",
       " RGB{N0f8}(0.0,0.494,0.0)\n",
       " RGB{N0f8}(0.0,0.314,0.902)\n",
       " RGB{N0f8}(0.675,0.0,0.278)\n",
       " RGB{N0f8}(0.0,1.0,0.784)\n",
       " RGB{N0f8}(0.0,0.392,0.408)\n",
       " ⋮\n",
       " RGB{N0f8}(0.286,0.424,0.396)\n",
       " RGB{N0f8}(0.424,0.565,0.537)\n",
       " RGB{N0f8}(0.169,0.137,0.106)\n",
       " RGB{N0f8}(0.384,0.925,0.835)\n",
       " RGB{N0f8}(0.0,0.188,0.137)\n",
       " RGB{N0f8}(0.729,0.365,0.153)\n",
       " RGB{N0f8}(0.965,0.698,0.643)\n",
       " RGB{N0f8}(1.0,0.0,0.353)\n",
       " RGB{N0f8}(0.231,0.259,0.388)"
      ]
     },
     "metadata": {},
     "output_type": "display_data"
    }
   ],
   "source": [
    "palette = distinguishable_colors(200)"
   ]
  },
  {
   "cell_type": "markdown",
   "metadata": {},
   "source": [
    "and then we can create a randomly checkered matrix using the `rand` command"
   ]
  },
  {
   "cell_type": "code",
   "execution_count": 9,
   "metadata": {},
   "outputs": [
    {
     "data": {
      "image/svg+xml": "<?xml version=\"1.0\" encoding=\"UTF-8\"?>\n<!DOCTYPE svg PUBLIC \"-//W3C//DTD SVG 1.1//EN\"\n \"http://www.w3.org/Graphics/SVG/1.1/DTD/svg11.dtd\">\n<svg xmlns=\"http://www.w3.org/2000/svg\" version=\"1.1\"\n     width=\"150mm\" height=\"150mm\"\n     viewBox=\"0 0 8 8\" preserveAspectRatio=\"none\"\n     shape-rendering=\"crispEdges\" stroke=\"none\">\n<rect width=\".95\" height=\".95\" x=\"0\" y=\"0\" fill=\"#C57177\" />\n<rect width=\".95\" height=\".95\" x=\"1\" y=\"0\" fill=\"#004B56\" />\n<rect width=\".95\" height=\".95\" x=\"2\" y=\"0\" fill=\"#F3FFFA\" />\n<rect width=\".95\" height=\".95\" x=\"3\" y=\"0\" fill=\"#485C00\" />\n<rect width=\".95\" height=\".95\" x=\"4\" y=\"0\" fill=\"#BA5D27\" />\n<rect width=\".95\" height=\".95\" x=\"5\" y=\"0\" fill=\"#2A353D\" />\n<rect width=\".95\" height=\".95\" x=\"6\" y=\"0\" fill=\"#00AEC8\" />\n<rect width=\".95\" height=\".95\" x=\"7\" y=\"0\" fill=\"#001827\" />\n<rect width=\".95\" height=\".95\" x=\"0\" y=\"1\" fill=\"#41518A\" />\n<rect width=\".95\" height=\".95\" x=\"1\" y=\"1\" fill=\"#002D54\" />\n<rect width=\".95\" height=\".95\" x=\"2\" y=\"1\" fill=\"#687B7A\" />\n<rect width=\".95\" height=\".95\" x=\"3\" y=\"1\" fill=\"#620019\" />\n<rect width=\".95\" height=\".95\" x=\"4\" y=\"1\" fill=\"#EC93C8\" />\n<rect width=\".95\" height=\".95\" x=\"5\" y=\"1\" fill=\"#00ECFF\" />\n<rect width=\".95\" height=\".95\" x=\"6\" y=\"1\" fill=\"#C40000\" />\n<rect width=\".95\" height=\".95\" x=\"7\" y=\"1\" fill=\"#008E94\" />\n<rect width=\".95\" height=\".95\" x=\"0\" y=\"2\" fill=\"#996F3D\" />\n<rect width=\".95\" height=\".95\" x=\"1\" y=\"2\" fill=\"#2B231B\" />\n<rect width=\".95\" height=\".95\" x=\"2\" y=\"2\" fill=\"#62ECD5\" />\n<rect width=\".95\" height=\".95\" x=\"3\" y=\"2\" fill=\"#96E99D\" />\n<rect width=\".95\" height=\".95\" x=\"4\" y=\"2\" fill=\"#BC6AC4\" />\n<rect width=\".95\" height=\".95\" x=\"5\" y=\"2\" fill=\"#204B39\" />\n<rect width=\".95\" height=\".95\" x=\"6\" y=\"2\" fill=\"#00D177\" />\n<rect width=\".95\" height=\".95\" x=\"7\" y=\"2\" fill=\"#DB3E00\" />\n<rect width=\".95\" height=\".95\" x=\"0\" y=\"3\" fill=\"#B39688\" />\n<rect width=\".95\" height=\".95\" x=\"1\" y=\"3\" fill=\"#DA003F\" />\n<rect width=\".95\" height=\".95\" x=\"2\" y=\"3\" fill=\"#80765F\" />\n<rect width=\".95\" height=\".95\" x=\"3\" y=\"3\" fill=\"#B6F9D9\" />\n<rect width=\".95\" height=\".95\" x=\"4\" y=\"3\" fill=\"#96E99D\" />\n<rect width=\".95\" height=\".95\" x=\"5\" y=\"3\" fill=\"#485C00\" />\n<rect width=\".95\" height=\".95\" x=\"6\" y=\"3\" fill=\"#9E9E77\" />\n<rect width=\".95\" height=\".95\" x=\"7\" y=\"3\" fill=\"#41518A\" />\n<rect width=\".95\" height=\".95\" x=\"0\" y=\"4\" fill=\"#CAAC51\" />\n<rect width=\".95\" height=\".95\" x=\"1\" y=\"4\" fill=\"#6F5B95\" />\n<rect width=\".95\" height=\".95\" x=\"2\" y=\"4\" fill=\"#ED5EFF\" />\n<rect width=\".95\" height=\".95\" x=\"3\" y=\"4\" fill=\"#6B3044\" />\n<rect width=\".95\" height=\".95\" x=\"4\" y=\"4\" fill=\"#6B0041\" />\n<rect width=\".95\" height=\".95\" x=\"5\" y=\"4\" fill=\"#FFAD07\" />\n<rect width=\".95\" height=\".95\" x=\"6\" y=\"4\" fill=\"#8A0000\" />\n<rect width=\".95\" height=\".95\" x=\"7\" y=\"4\" fill=\"#00D177\" />\n<rect width=\".95\" height=\".95\" x=\"0\" y=\"5\" fill=\"#9E5100\" />\n<rect width=\".95\" height=\".95\" x=\"1\" y=\"5\" fill=\"#8C7164\" />\n<rect width=\".95\" height=\".95\" x=\"2\" y=\"5\" fill=\"#9E9E77\" />\n<rect width=\".95\" height=\".95\" x=\"3\" y=\"5\" fill=\"#005577\" />\n<rect width=\".95\" height=\".95\" x=\"4\" y=\"5\" fill=\"#003200\" />\n<rect width=\".95\" height=\".95\" x=\"5\" y=\"5\" fill=\"#FF5C78\" />\n<rect width=\".95\" height=\".95\" x=\"6\" y=\"5\" fill=\"#C7DEAA\" />\n<rect width=\".95\" height=\".95\" x=\"7\" y=\"5\" fill=\"#2E2124\" />\n<rect width=\".95\" height=\".95\" x=\"0\" y=\"6\" fill=\"#002D30\" />\n<rect width=\".95\" height=\".95\" x=\"1\" y=\"6\" fill=\"#FF977B\" />\n<rect width=\".95\" height=\".95\" x=\"2\" y=\"6\" fill=\"#120013\" />\n<rect width=\".95\" height=\".95\" x=\"3\" y=\"6\" fill=\"#204B39\" />\n<rect width=\".95\" height=\".95\" x=\"4\" y=\"6\" fill=\"#9E9E77\" />\n<rect width=\".95\" height=\".95\" x=\"5\" y=\"6\" fill=\"#008D53\" />\n<rect width=\".95\" height=\".95\" x=\"6\" y=\"6\" fill=\"#00739E\" />\n<rect width=\".95\" height=\".95\" x=\"7\" y=\"6\" fill=\"#B6F9D9\" />\n<rect width=\".95\" height=\".95\" x=\"0\" y=\"7\" fill=\"#DCFFA2\" />\n<rect width=\".95\" height=\".95\" x=\"1\" y=\"7\" fill=\"#008E94\" />\n<rect width=\".95\" height=\".95\" x=\"2\" y=\"7\" fill=\"#9E5100\" />\n<rect width=\".95\" height=\".95\" x=\"3\" y=\"7\" fill=\"#00379E\" />\n<rect width=\".95\" height=\".95\" x=\"4\" y=\"7\" fill=\"#FF4EC7\" />\n<rect width=\".95\" height=\".95\" x=\"5\" y=\"7\" fill=\"#009E88\" />\n<rect width=\".95\" height=\".95\" x=\"6\" y=\"7\" fill=\"#9E5100\" />\n<rect width=\".95\" height=\".95\" x=\"7\" y=\"7\" fill=\"#8AB9A2\" />\n</svg>",
      "text/plain": [
       "8×8 Array{RGB{N0f8},2} with eltype RGB{FixedPointNumbers.N0f8}:\n",
       " RGB{N0f8}(0.773,0.443,0.467)  …  RGB{N0f8}(0.0,0.094,0.153)\n",
       " RGB{N0f8}(0.255,0.318,0.541)     RGB{N0f8}(0.0,0.557,0.58)\n",
       " RGB{N0f8}(0.6,0.435,0.239)       RGB{N0f8}(0.859,0.243,0.0)\n",
       " RGB{N0f8}(0.702,0.588,0.533)     RGB{N0f8}(0.255,0.318,0.541)\n",
       " RGB{N0f8}(0.792,0.675,0.318)     RGB{N0f8}(0.0,0.82,0.467)\n",
       " RGB{N0f8}(0.62,0.318,0.0)     …  RGB{N0f8}(0.18,0.129,0.141)\n",
       " RGB{N0f8}(0.0,0.176,0.188)       RGB{N0f8}(0.714,0.976,0.851)\n",
       " RGB{N0f8}(0.863,1.0,0.635)       RGB{N0f8}(0.541,0.725,0.635)"
      ]
     },
     "metadata": {},
     "output_type": "display_data"
    }
   ],
   "source": [
    "rand(palette, 8, 8)"
   ]
  },
  {
   "cell_type": "markdown",
   "metadata": {},
   "source": [
    "In the next notebook, we'll use a new package to plot datasets."
   ]
  },
  {
   "cell_type": "markdown",
   "metadata": {},
   "source": [
    "### Exercises\n",
    "\n",
    "#### 7.1 \n",
    "Load the Primes package (source code at https://github.com/JuliaMath/Primes.jl )."
   ]
  },
  {
   "cell_type": "code",
   "execution_count": 19,
   "metadata": {},
   "outputs": [
    {
     "name": "stderr",
     "output_type": "stream",
     "text": [
      "\u001b[32m\u001b[1m   Resolving\u001b[22m\u001b[39m package versions...\n",
      "\u001b[32m\u001b[1m  No Changes\u001b[22m\u001b[39m to `~/.julia/environments/v1.7/Project.toml`\n",
      "\u001b[32m\u001b[1m  No Changes\u001b[22m\u001b[39m to `~/.julia/environments/v1.7/Manifest.toml`\n"
     ]
    }
   ],
   "source": [
    "using Pkg\n",
    "Pkg.add(\"Primes\")\n",
    "using Primes"
   ]
  },
  {
   "cell_type": "code",
   "execution_count": 20,
   "metadata": {
    "deletable": false,
    "editable": false,
    "hide_input": true,
    "nbgrader": {
     "checksum": "0c808f5cb8f48b17f8552f00abf2ee09",
     "grade": true,
     "grade_id": "cell-7c4498760f1c26d7",
     "locked": true,
     "points": 1,
     "schema_version": 1,
     "solution": false
    }
   },
   "outputs": [],
   "source": [
    "@assert @isdefined Primes"
   ]
  },
  {
   "cell_type": "markdown",
   "metadata": {},
   "source": [
    "#### 7.2 \n",
    "Verify that you can now use the function `primes` to grab all prime numbers under 1,000,000 and store it in variable `primes_list`"
   ]
  },
  {
   "cell_type": "code",
   "execution_count": 22,
   "metadata": {},
   "outputs": [
    {
     "data": {
      "text/plain": [
       "78498-element Vector{Int64}:\n",
       "      2\n",
       "      3\n",
       "      5\n",
       "      7\n",
       "     11\n",
       "     13\n",
       "     17\n",
       "     19\n",
       "     23\n",
       "     29\n",
       "      ⋮\n",
       " 999883\n",
       " 999907\n",
       " 999917\n",
       " 999931\n",
       " 999953\n",
       " 999959\n",
       " 999961\n",
       " 999979\n",
       " 999983"
      ]
     },
     "metadata": {},
     "output_type": "display_data"
    }
   ],
   "source": [
    "primes_list = primes(1000000)"
   ]
  },
  {
   "cell_type": "code",
   "execution_count": 23,
   "metadata": {
    "deletable": false,
    "editable": false,
    "hide_input": true,
    "nbgrader": {
     "checksum": "ec7f3d8aa43d629a2e57bc4be8525286",
     "grade": true,
     "grade_id": "cell-ab26afd81c0a11ae",
     "locked": true,
     "points": 1,
     "schema_version": 1,
     "solution": false
    }
   },
   "outputs": [],
   "source": [
    "@assert primes_list == primes(1000000)"
   ]
  }
 ],
 "metadata": {
  "kernelspec": {
   "display_name": "Julia 1.7.0",
   "language": "julia",
   "name": "julia-1.7"
  },
  "language_info": {
   "file_extension": ".jl",
   "mimetype": "application/julia",
   "name": "julia",
   "version": "1.7.0"
  }
 },
 "nbformat": 4,
 "nbformat_minor": 4
}
